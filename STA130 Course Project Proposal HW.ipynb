{
 "cells": [
  {
   "cell_type": "markdown",
   "id": "11f45f2e",
   "metadata": {},
   "source": [
    "## Analysis 1"
   ]
  },
  {
   "cell_type": "markdown",
   "id": "5007a78e",
   "metadata": {},
   "source": [
    "### Research Question:"
   ]
  },
  {
   "cell_type": "markdown",
   "id": "e6a036fb",
   "metadata": {},
   "source": [
    "Does the frequency of social interactions correlate with better self-reported mental health among Canadians?"
   ]
  },
  {
   "cell_type": "markdown",
   "id": "4de8e729",
   "metadata": {},
   "source": [
    "### Variables:"
   ]
  },
  {
   "cell_type": "markdown",
   "id": "f8fa042d",
   "metadata": {},
   "source": [
    "**Frequency of Social Interactions (predictor variable):** This variable represents how often individuals interact with family, friends, neighbours, or coworkers. Social interactions have been widely recognized as contributing to mental well-being, and assessing their frequency could provide insights into how connection impacts mental health outcomes. A histogram will be useful for displaying the distribution of social interaction frequency across the sample, giving an overview of common interaction levels. Additionally, a box plot will allow for the comparison of mental health ratings across different levels of social interaction, helping visualize any trends in the data."
   ]
  },
  {
   "cell_type": "markdown",
   "id": "2ecbd0f9",
   "metadata": {},
   "source": [
    "**Self-Reported Mental Health (binary outcome variable):** This variable represents participants’ self-reported mental health, divided into two categories for logistic regression: **“Good Mental Health”** (combining ratings of “very good” and “excellent”) and **“Not Good Mental Health”** (combining ratings of “poor\" and \"very bad\". This variable is the dependent outcome that we are interested in exploring relative to interaction frequency. Mental health is critical for understanding well-being, and self-reported measures provide insight into how individuals perceive their mental state. Recoding mental health into binary categories allows us to use logistic regression to examine the likelihood of reporting good mental health. A bar plot for mental health ratings will summarize the overall distribution, highlighting general trends in the sample. When paired with interaction frequency, this can illustrate patterns that might suggest a positive association."
   ]
  },
  {
   "cell_type": "markdown",
   "id": "2f54c62b",
   "metadata": {},
   "source": [
    "### Analysis: Logistic Regression"
   ]
  },
  {
   "cell_type": "markdown",
   "id": "78916748",
   "metadata": {},
   "source": [
    "**Set Up the Model:** The **binary outcome** is “Good Mental Health” vs. “Not Good Mental Health”. The predictor, **Frequency of Social Interactions**, is used to estimate the probability that a participant reports good mental health."
   ]
  },
  {
   "cell_type": "markdown",
   "id": "76d61f0d",
   "metadata": {},
   "source": [
    "**Interpret the Odds Ratio:** The regression will provide an odds ratio for the predictor variable, which indicates the likelihood of reporting good mental health as interaction frequency increases. An **odds ratio greater than 1** would suggest that higher social interaction frequency is associated with greater odds of reporting good mental health."
   ]
  },
  {
   "cell_type": "markdown",
   "id": "04d556ad",
   "metadata": {},
   "source": [
    "**Significance Testing:** Check the p-value for the predictor variable to assess if the association between social interaction frequency and mental health is statistically significant."
   ]
  },
  {
   "cell_type": "markdown",
   "id": "82a85454",
   "metadata": {},
   "source": [
    "**Assumptions:** **Binary Outcome:** Mental health is appropriately categorized as a binary outcome (good vs. not good). **Independence of Observations:** Each participant’s mental health rating is independent of others. **Linearity in Log-Odds:** The relationship between the frequency of interactions and the log-odds of reporting good mental health is approximately linear."
   ]
  },
  {
   "cell_type": "markdown",
   "id": "a640ecbe",
   "metadata": {},
   "source": [
    "### Hypothesis:"
   ]
  },
  {
   "cell_type": "markdown",
   "id": "e2795321",
   "metadata": {},
   "source": [
    "**Null Hypothesis (H0):** No relationship between social interaction frequency and mental health rating—the predictor does not have a meaningful effect on the outcome.\n",
    "**Alternative Hypothesis (H1):** This suggests that there is a relationship, and changes in social interaction frequency are associated with changes in mental health."
   ]
  },
  {
   "cell_type": "markdown",
   "id": "431c94f7",
   "metadata": {},
   "source": [
    " If logistic regression yields a significant positive odds ratio for social interaction frequency, this would indicate that frequent social engagement is linked to better self-reported mental health."
   ]
  },
  {
   "cell_type": "markdown",
   "id": "edb6914f",
   "metadata": {},
   "source": [
    "Finding a significant association would support the idea that frequent social connections are beneficial to mental well-being, which directly answers our research question. If the results show a positive association, it could suggest that encouraging more frequent social interactions could benefit individuals' mental well-being. On the other hand, if the analysis shows no significant relationship, it would suggest that factors other than frequency of social interactions may play a larger role in mental health."
   ]
  },
  {
   "cell_type": "markdown",
   "id": "a4b83fae",
   "metadata": {},
   "source": [
    "## Analysis 2"
   ]
  },
  {
   "cell_type": "markdown",
   "id": "7196b168",
   "metadata": {},
   "source": [
    "### Research Question:"
   ]
  },
  {
   "cell_type": "markdown",
   "id": "44746af9",
   "metadata": {},
   "source": [
    "Is there an association between participation in community activities and an individual’s sense of belonging?"
   ]
  },
  {
   "cell_type": "markdown",
   "id": "67f1bb65",
   "metadata": {},
   "source": [
    "### Variables:"
   ]
  },
  {
   "cell_type": "markdown",
   "id": "dacdccac",
   "metadata": {},
   "source": [
    "**Community Engagement Level (qualitative, ordinal).** This variable represents how actively an individual participates in community activities, categorized as “no participation”, “low participation”, “moderate participation”, and “frequent participation.” Community engagement level is chosen as the independent variable because the research question focuses on whether participation frequency affects an individual’s sense of belonging. The different levels of engagement allow us to assess if higher participation correlates with stronger feelings of belonging. A bar chart can display the distribution of engagement levels among participants, providing insight into overall participation trends. A grouped bar chart or stacked bar chart comparing engagement levels with belonging scores could visually represent any patterns or associations between the two variables."
   ]
  },
  {
   "cell_type": "markdown",
   "id": "26035624",
   "metadata": {},
   "source": [
    "**Sense of Belonging (qualitative, ordinal):** This variable measures participants’ self-reported sense of belonging, with categories like “low,” “moderate,” and “high.” It serves as the outcome variable, reflecting individuals' feelings of community connection. Sense of belonging is relevant as it directly measures the desired outcome—whether community engagement enhances an individual’s connection to the community. A bar chart of belonging scores can show the overall distribution. To examine the relationship with engagement, a stacked bar chart or grouped bar chart with engagement levels on the x-axis and belonging scores as separate bars will illustrate if higher engagement correlates with a greater sense of belonging."
   ]
  },
  {
   "cell_type": "markdown",
   "id": "45ae9e2e",
   "metadata": {},
   "source": [
    "### Analysis: Hypothesis Testing"
   ]
  },
  {
   "cell_type": "markdown",
   "id": "eec65b36",
   "metadata": {},
   "source": [
    "**Conduct a chi-square test** for independence to examine the relationship between community engagement level and sense of belonging."
   ]
  },
  {
   "cell_type": "markdown",
   "id": "b8e7175a",
   "metadata": {},
   "source": [
    "1. Create a table showing the number of people in each category of community participation (e.g., “low”,  “moderate”, “high”) and sense of belonging (e.g., “low”, “medium”, “high”)."
   ]
  },
  {
   "cell_type": "markdown",
   "id": "00992291",
   "metadata": {},
   "source": [
    "2. **Formulate hypotheses:** **Null Hypothesis (H0)** is that there is no association between community engagement level and sense of belonging. **Alternative Hypothesis (H1)** is that there is an association between community engagement level and sense of belonging."
   ]
  },
  {
   "cell_type": "markdown",
   "id": "6e3f1fd8",
   "metadata": {},
   "source": [
    "3. **Calculate expected counts:** For each cell in the table, calculate the expected count assuming no association between the variables. This is done by multiplying the row total by the column total and dividing by the overall total."
   ]
  },
  {
   "cell_type": "markdown",
   "id": "b4f79da0",
   "metadata": {},
   "source": [
    "4. **Compute the Chi-square Statistic:** For each cell, calculate (observed – expected)^2 / Expected. Then, Sum these values across all cells to get the chi-square statistic."
   ]
  },
  {
   "cell_type": "markdown",
   "id": "1c314af7",
   "metadata": {},
   "source": [
    "5. **Determine the p-value:** Use the chi-square statistic to get a p-value, which tells us if the differences are big enough to suggest a real association."
   ]
  },
  {
   "cell_type": "markdown",
   "id": "f6d274af",
   "metadata": {},
   "source": [
    "**Assumptions:** Independence of observations, sufficiently large sample size, and both the variables being analyzed (community participation and sense of belonging) must be categorical (i.e., divided into distinct groups like \"low\", \"moderate\", \"high\")."
   ]
  },
  {
   "cell_type": "markdown",
   "id": "3a3cfb15",
   "metadata": {},
   "source": [
    "### Hypothesis:"
   ]
  },
  {
   "cell_type": "markdown",
   "id": "a2771f27",
   "metadata": {},
   "source": [
    "**Null hypothesis (H0):** There is no association between community engagement level and sense of belonging.\n",
    "**Alternative hypothesis (H1):** There is an association between community engagement level and sense of belonging."
   ]
  },
  {
   "cell_type": "markdown",
   "id": "6345ed9a",
   "metadata": {},
   "source": [
    "If the results support a positive association, it would directly answer the research question by indicating that community activities do enhance an individual’s sense of belonging. This finding could be valuable for community organizations or public health initiatives, as it supports the idea that encouraging community engagement may foster a stronger sense of community connection and well-being. Conversely, if no association is found, it might indicate that factors other than participation frequency play a larger role in fostering a sense of belonging."
   ]
  },
  {
   "cell_type": "markdown",
   "id": "0f841461",
   "metadata": {},
   "source": [
    "## Analysis 3"
   ]
  },
  {
   "cell_type": "markdown",
   "id": "aebf2d82",
   "metadata": {},
   "source": [
    "### Research Question:"
   ]
  },
  {
   "cell_type": "markdown",
   "id": "a417ab2a",
   "metadata": {},
   "source": [
    "Does high social media usage correlate with lower-quality of in-person relationships?"
   ]
  },
  {
   "cell_type": "markdown",
   "id": "2281564f",
   "metadata": {},
   "source": [
    "### Variables:"
   ]
  },
  {
   "cell_type": "markdown",
   "id": "37b71dc2",
   "metadata": {},
   "source": [
    "**Social Media Usage (predictor variable):** This variable measures the amount of time individuals spend on social media each day, recorded as continuous hours (e.g., 0-24). Social media usage is chosen as the independent variable because the research question focuses on whether increased online activity is associated with a decline in the quality of in-person relationships. Measuring time spent on social media provides a quantifiable way to examine if there is an observable trend between screen time and relationship quality. A **histogram** for social media usage helps by showing the distribution of time spent on social media across participants, giving insight into common usage levels. If you have data on hours per day spent on social media, a histogram could display this by grouping participants into bins (e.g., 0–1 hours, 1–2 hours, etc.). Each bar represents the number of participants within each usage range."
   ]
  },
  {
   "cell_type": "markdown",
   "id": "f85e4688",
   "metadata": {},
   "source": [
    "**Quality of In-Person Relationships (binary outcome variable):** This variable represents participants’ self-reported quality of in-person relationships, which will be recoded into two categories for logistic regression: “High-Quality Relationships” (combining ratings of “good” and “excellent”) and “Low-Quality Relationships” (combining ratings of “poor” and “very bad”). The quality of in-person relationships is the outcome variable, measuring how participants perceive their face-to-face connections. Understanding how this varies with social media usage could reveal if online activity impacts real-life interactions. A bar chart for relationship quality will show the distribution of ratings among participants, giving insight into the overall perception of relationship quality. This visualization makes it easy to see the most common relationship quality levels in the sample, helping to identify whether lower quality ratings are associated with higher social media usage in further analysis."
   ]
  },
  {
   "cell_type": "markdown",
   "id": "35059ec5",
   "metadata": {},
   "source": [
    "### Analysis: Logistic Regression"
   ]
  },
  {
   "cell_type": "markdown",
   "id": "908e6c1e",
   "metadata": {},
   "source": [
    "**Set Up the Model:** The **binary outcome** is “High-Quality Relationships” vs. “Low-Quality Relationships.” The predictor, **Social Media Usage**, is used to estimate the probability that a participant reports high-quality in-person relationships."
   ]
  },
  {
   "cell_type": "markdown",
   "id": "17add289",
   "metadata": {},
   "source": [
    "**Interpret the Odds Ratio:** The regression output will include an odds ratio for social media usage, indicating the likelihood of reporting high-quality relationships as social media usage increases. An **odds ratio less than 1** would suggest that higher social media usage is associated with lower odds of reporting high-quality relationships, supporting the hypothesis of a negative association."
   ]
  },
  {
   "cell_type": "markdown",
   "id": "96396012",
   "metadata": {},
   "source": [
    "**Significance Testing:** Check the p-value for the predictor variable to determine if the association between social media usage and relationship quality is statistically significant."
   ]
  },
  {
   "cell_type": "markdown",
   "id": "3e076e4d",
   "metadata": {},
   "source": [
    "**Assumptions:** **Binary Outcome:** Relationship quality is appropriately categorized as a binary outcome (high vs. low quality). **Independence of Observations:** Each participant’s relationship quality rating is independent of others. **Linearity in Log-Odds:** The relationship between social media usage and the log-odds of reporting high-quality relationships is approximately linear."
   ]
  },
  {
   "cell_type": "markdown",
   "id": "50084749",
   "metadata": {},
   "source": [
    "### Hypothesis:"
   ]
  },
  {
   "cell_type": "markdown",
   "id": "9ad4d55b",
   "metadata": {},
   "source": [
    "**Null Hypothesis (H0):** There is no association between social media usage and the quality of in-person relationships, meaning social media usage does not affect the odds of having high-quality relationships.\n",
    "**Alternative Hypothesis (H1):** Higher social media usage is negatively associated with high-quality in-person relationships. This suggests that individuals who spend more time on social media are less likely to report high-quality relationships with family, friends, or coworkers."
   ]
  },
  {
   "cell_type": "markdown",
   "id": "3e631d6e",
   "metadata": {},
   "source": [
    "A significant odds ratio below 1 would support the hypothesis of a negative association between social media usage and relationship quality. Confirming a negative association between social media usage and relationship quality would directly answer the research question, supporting the idea that higher social media usage correlates with weaker in-person connections. This finding could provide insights into how social media use impacts real-life relationships and may inform guidelines for healthy social media usage."
   ]
  },
  {
   "cell_type": "markdown",
   "id": "6fe29bc9",
   "metadata": {},
   "source": [
    "This insight could be relevant for public health messaging, encouraging balanced social media use to maintain stronger face-to-face connections. Conversely, if no significant association is found, this could suggest that other factors play a larger role in relationship quality."
   ]
  }
 ],
 "metadata": {
  "kernelspec": {
   "display_name": "Python 3 (ipykernel)",
   "language": "python",
   "name": "python3"
  },
  "language_info": {
   "codemirror_mode": {
    "name": "ipython",
    "version": 3
   },
   "file_extension": ".py",
   "mimetype": "text/x-python",
   "name": "python",
   "nbconvert_exporter": "python",
   "pygments_lexer": "ipython3",
   "version": "3.11.6"
  }
 },
 "nbformat": 4,
 "nbformat_minor": 5
}
